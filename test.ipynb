{
 "cells": [],
 "metadata": {
  "kernelspec": {
   "display_name": "mr_seql",
   "language": "python",
   "name": "python3"
  },
  "language_info": {
   "codemirror_mode": {
    "name": "ipython",
    "version": 3
   },
   "file_extension": ".py",
   "mimetype": "text/x-python",
   "name": "python",
   "nbconvert_exporter": "python",
   "pygments_lexer": "ipython3",
   "version": "3.7.12"
  },
  "vscode": {
   "interpreter": {
    "hash": "12f1aaab691776befdbdf67b7f30aac9406c41c22a66b3442a1f34873388b85f"
   }
  }
 },
 "nbformat": 4,
 "nbformat_minor": 4
}
